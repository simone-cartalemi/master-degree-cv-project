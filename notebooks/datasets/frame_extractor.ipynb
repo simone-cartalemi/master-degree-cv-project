{
 "cells": [
  {
   "cell_type": "code",
   "execution_count": 1,
   "metadata": {},
   "outputs": [],
   "source": [
    "import cv2\n",
    "import os\n",
    "from tqdm.notebook import tqdm\n",
    "\n",
    "main_path = \"../../\""
   ]
  },
  {
   "cell_type": "code",
   "execution_count": 2,
   "metadata": {},
   "outputs": [],
   "source": [
    "def extract_frames(video_path, output_folder, num_frames=0):\n",
    "    if not os.path.exists(output_folder):\n",
    "        os.makedirs(output_folder)\n",
    "    \n",
    "    cap = cv2.VideoCapture(video_path)\n",
    "    \n",
    "    if not cap.isOpened():\n",
    "        print(\"Errore: impossibile aprire il video.\")\n",
    "        return\n",
    "    \n",
    "    frame_count = int(cap.get(cv2.CAP_PROP_FRAME_COUNT))\n",
    "    print(f\"Il video contiene {frame_count} frame.\")\n",
    "    print(f\"Il frame rate è di {cap.get(cv2.CAP_PROP_FPS)} FPS\")\n",
    "    if num_frames == 0 or num_frames > frame_count:\n",
    "        num_frames = frame_count\n",
    "    print(f\"Estraggo {num_frames} frames\")\n",
    "    \n",
    "    frame_num = 0\n",
    "    \n",
    "    while frame_num < num_frames:\n",
    "        ret, frame = cap.read()\n",
    "        \n",
    "        if not ret:\n",
    "            print(\"Errore di lettura.\")\n",
    "            break\n",
    "        \n",
    "        frame_filename = os.path.join(output_folder, f\"{frame_num:04d}.png\")\n",
    "        cv2.imwrite(frame_filename, frame)\n",
    "        \n",
    "        frame_num += 1\n",
    "        \n",
    "        if frame_num % 100 == 0:\n",
    "            print(f\"{frame_num} frame salvati...\")\n",
    "    \n",
    "    cap.release()\n",
    "    print(f\"Estrazione completata. {frame_num} frame salvati in {output_folder}.\")"
   ]
  },
  {
   "cell_type": "code",
   "execution_count": 3,
   "metadata": {},
   "outputs": [
    {
     "name": "stdout",
     "output_type": "stream",
     "text": [
      "Il video contiene 6363 frame.\n",
      "Il frame rate è di 119.93497160898146 FPS\n",
      "Estraggo 500 frames\n",
      "100 frame salvati...\n",
      "200 frame salvati...\n",
      "300 frame salvati...\n",
      "400 frame salvati...\n",
      "500 frame salvati...\n",
      "Estrazione completata. 500 frame salvati in ../../datasets/thai/Videos/extracted_frames_IMG_0506/.\n"
     ]
    }
   ],
   "source": [
    "# Estrai frame da un video\n",
    "video_name = \"IMG_0506\"\n",
    "video_path = os.path.join(main_path, f\"datasets/thai/Videos/{video_name}.MOV\")\n",
    "output_folder = os.path.join(main_path, f\"datasets/thai/Videos/extracted_frames_{video_name}/\")\n",
    "\n",
    "extract_frames(video_path, output_folder, 500)"
   ]
  }
 ],
 "metadata": {
  "kernelspec": {
   "display_name": ".venv",
   "language": "python",
   "name": "python3"
  },
  "language_info": {
   "codemirror_mode": {
    "name": "ipython",
    "version": 3
   },
   "file_extension": ".py",
   "mimetype": "text/x-python",
   "name": "python",
   "nbconvert_exporter": "python",
   "pygments_lexer": "ipython3",
   "version": "3.11.9"
  }
 },
 "nbformat": 4,
 "nbformat_minor": 2
}
