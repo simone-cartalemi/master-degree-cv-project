{
 "cells": [
  {
   "cell_type": "code",
   "execution_count": 6,
   "metadata": {},
   "outputs": [],
   "source": [
    "import cv2\n",
    "import xml.etree.ElementTree as ET\n",
    "import os\n",
    "from tqdm.notebook import tqdm\n",
    "\n",
    "main_path = \"../../\""
   ]
  },
  {
   "cell_type": "code",
   "execution_count": 44,
   "metadata": {},
   "outputs": [],
   "source": [
    "# Generic\n",
    "def draw_bbox(frame, bbox):\n",
    "    for obj in bbox:\n",
    "        x1, y1, x2, y2 = obj[\"bndbox\"]\n",
    "        obj_id = obj[\"id\"]\n",
    "        cls = obj[\"class\"]\n",
    "\n",
    "        cv2.rectangle(frame, (int(x1), int(y1)), (int(x2), int(y2)), (0, 255, 0), 2)\n",
    "        cv2.putText(frame, f\"ID: {obj_id}, cls: {cls}\", (int(x1), int(y1) - 10), cv2.FONT_HERSHEY_SIMPLEX, 0.5, (0, 255, 0), 2)\n",
    "    return frame\n",
    "\n",
    "def video_builder(input_folder, output_path, name, fps = 30):\n",
    "    files = [f for f in os.listdir(input_folder) if os.path.isfile(os.path.join(input_folder, f))]\n",
    "    files.sort()\n",
    "\n",
    "    first_frame_path = os.path.join(input_folder, files[0])\n",
    "    frame = cv2.imread(first_frame_path)\n",
    "    height, width, layers = frame.shape\n",
    "\n",
    "    fourcc = cv2.VideoWriter_fourcc(*'mp4v')  # Codec per MP4\n",
    "    video = cv2.VideoWriter(output_path + name, fourcc, fps, (width, height))\n",
    "\n",
    "    for file in tqdm(files):\n",
    "        frame_path = os.path.join(input_folder, file)\n",
    "        frame = cv2.imread(frame_path)\n",
    "        video.write(frame)\n",
    "\n",
    "    video.release()"
   ]
  },
  {
   "cell_type": "code",
   "execution_count": null,
   "metadata": {},
   "outputs": [],
   "source": [
    "# Per GRAM-RTM Dataset\n",
    "\n",
    "def read_csv_data(path_annotations, frame_name):\n",
    "    tree = ET.parse(os.path.join(path_annotations, frame_name + '.xml'))\n",
    "    root = tree.getroot()\n",
    "    bbox = []\n",
    "    for child in root.iter('object'):\n",
    "        obj = {}\n",
    "        obj[\"class\"] = child.find(\"class\").text\n",
    "        obj[\"id\"] = child.find(\"ID\").text\n",
    "\n",
    "        bndbox = child.find('bndbox')\n",
    "\n",
    "        x1 = bndbox.find(\"xmin\").text\n",
    "        y1 = bndbox.find(\"ymin\").text\n",
    "        x2 = bndbox.find(\"xmax\").text\n",
    "        y2 = bndbox.find(\"ymax\").text\n",
    "        #for subtag in bndbox:\n",
    "        #    bndbox_data[subtag.tag] = subtag.text\n",
    "        obj[\"bndbox\"] = (x1, y1, x2, y2)\n",
    "        \n",
    "        bbox.append(obj)\n",
    "\n",
    "    return bbox\n",
    "\n",
    "def build_gram(input_folder, ds_annotations, output_file, fps = 30):\n",
    "    # Importa cartella dei frames\n",
    "    files = [f for f in os.listdir(input_folder) if os.path.isfile(os.path.join(input_folder, f))]\n",
    "    files.sort()\n",
    "\n",
    "    first_frame_path = os.path.join(input_folder, files[0])\n",
    "    frame = cv2.imread(first_frame_path)\n",
    "    height, width, layers = frame.shape\n",
    "\n",
    "    fourcc = cv2.VideoWriter_fourcc(*'mp4v')  # Codec per MP4\n",
    "    video = cv2.VideoWriter(output_file, fourcc, fps, (width, height))\n",
    "\n",
    "    for i, file in enumerate(tqdm(files)):\n",
    "        frame_path = os.path.join(input_folder, file)\n",
    "        frame = cv2.imread(frame_path)\n",
    "        obj = read_csv_data(ds_annotations, str(i))\n",
    "\n",
    "        video.write(draw_bbox(frame, obj))\n",
    "\n",
    "    video.release()"
   ]
  },
  {
   "cell_type": "code",
   "execution_count": null,
   "metadata": {},
   "outputs": [],
   "source": [
    "# Crea video che mostri dataset gram con le annotation\n",
    "ds_name = \"M-30-HD\"\n",
    "input_folder = f\"{main_path}datasets/GRAM-RTMv4/Images/{ds_name}\"\n",
    "ds_annotations = f\"{main_path}datasets/GRAM-RTMv4/Annotations/{ds_name}/xml/\"\n",
    "output_name = f\"{main_path}datasets/GRAM-RTMv4/Videos/{ds_name}_with_annotations.mp4\"\n",
    "build_gram(input_folder, ds_annotations, output_name)"
   ]
  },
  {
   "cell_type": "code",
   "execution_count": null,
   "metadata": {},
   "outputs": [],
   "source": [
    "# Crea video da frames\n",
    "ds_name = \"M-30\"\n",
    "input_folder = f\"{main_path}datasets/GRAM-RTMv4/Images/{ds_name}\"\n",
    "output_path = f\"{main_path}datasets/GRAM-RTMv4/Videos\"\n",
    "name = f\"{ds_name}.mp4\"\n",
    "video_builder(input_folder, output_path, name, fps = 30)"
   ]
  }
 ],
 "metadata": {
  "kernelspec": {
   "display_name": ".pyenv",
   "language": "python",
   "name": "python3"
  },
  "language_info": {
   "codemirror_mode": {
    "name": "ipython",
    "version": 3
   },
   "file_extension": ".py",
   "mimetype": "text/x-python",
   "name": "python",
   "nbconvert_exporter": "python",
   "pygments_lexer": "ipython3",
   "version": "3.11.9"
  }
 },
 "nbformat": 4,
 "nbformat_minor": 2
}
